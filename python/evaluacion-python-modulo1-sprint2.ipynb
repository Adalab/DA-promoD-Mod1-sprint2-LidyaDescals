{
 "cells": [
  {
   "attachments": {},
   "cell_type": "markdown",
   "metadata": {},
   "source": [
    "En esta evaluación tendremos que crearnos una clase. Estamos trabajando para una editorial y tienen muchos ficheros de tipo .txt. Quieren hacer un estudio de palabras de los textos que tienen, para ello nos piden que nos creemos una clase que:\n",
    "\n",
    "- Reciba dos parámetros en el método constructor: \n",
    "\n",
    "    - La ruta donde se encuentra el fichero\n",
    "    - El nombre y la extensión del fichero que quieren abrir. \n",
    "\n",
    "- Tenga un método que nos abra el fichero en python, como un único *string*. Este método tiene que ser capaz de abrir cualquier tipo de fichero y que este ubicado en cualquier ubicación de nuestros ordenadores. \n",
    "\n",
    "- Tenga un método que lea un número \"X\" de palabras del texto. En este caso, el número de palabras que queremos leer debe ser un parámetro de este método. En este código deberemos incluir:\n",
    "    - Que si nos pasan como valor de número de palabras un número que no sea *integer*, nos salga un mensaje por pantalla que nos avise que la operación no se pueden hacer ya que necesitamos que sea un número *integer*. \n",
    "\n",
    "- Similar que en el paso anterior, crea un método que nos permita leer \"X\" lineas del texto. En este caso, el número de lineas que quiere leer el usuario no debe ser un parámetro del método. Tendremos que:\n",
    "\n",
    "    - Crear un *input* en el método que le pregunte al usuario cuántas líneas quiere leer\n",
    "\n",
    "    - Que tenga un control de errores por si el valor que nos pasa el usuario no es correcto, como por ejemplo un valor decimal. \n",
    "\n",
    "    - Además tenemos que tener en cuenta en el código que puede que el usuario quiera leer todas las líneas del archivo. Incluye en el programa el código necesario para que si el usuario nos indica que quiere leer todas las líneas el programa lo pueda hacer.  \n",
    "\n",
    "    **BONUS** En vez de devolver el resultado como una lista de *string* devuelvelo como un único *string*. \n",
    "\n",
    "- En este punto de la evaluación ya os habréis dado cuenta que en este fichero las primeras lineas no corresponden al quijote. Pero entonces... ¿en qué punto empieza el libro del quijote? En concreto, el libro está comprendido entre la lineas 1780 y 74276. Crea un método que solo nos devuelva el contenido del libro, sin la introducción inicial. \n",
    "\n",
    "\n",
    "-  Crea un último método en la clase que nos permita extraer las veces que aparece determinada palabra en el libro. Para eso este método deberá: \n",
    "\n",
    "    - Recibir la palabra o palabras que quiere buscar el usuario en el texto. \n",
    "    - Devolver el número de veces que aparece dicha palabra. \n",
    "    - Para confirmar que vuestro código, deberéis buscar las siguientes palabras como ejemplos de este método: \n",
    "\n",
    "        - Quijote, debemos tener en cuenta que aparezca en mayúscula o en minúscula, es decir, \"Quijote\" o \"quijote\"\n",
    "\n",
    "        - Alonso,  debemos tener en cuenta que aparezca en mayúscula o en minúscula, es decir, \"Quijote\" o \"quijote\"\n",
    "\n",
    "        - Don Quijote, debemos tener en cuenta que aparezca en mayúscula o en minúscula, es decir, \"Quijote\" o \"quijote\"\n",
    "    \n",
    "- **Nota**: Puede que tengáis algunos problemas para abrir el fichero, esto es por el `encoding` que tiene. Para solucionar este problema deberéis usar un encoding = \"latin-1\"\n",
    "\n",
    "- **Nota**: El fichero de `quijote.txt` debe encontrarse en una carpeta llamada `data`, diferente de donde se encuentra este fichero jupyter con la resolución."
   ]
  },
  {
   "cell_type": "code",
   "execution_count": null,
   "metadata": {},
   "outputs": [],
   "source": [
    "\n",
    "class Libro:\n",
    "\n",
    "    def __init__(self, ruta, nombre_y_extension):\n",
    "\n",
    "        self.ruta = ruta\n",
    "\n",
    "        self.nombre_y_extension = nombre_y_extension\n",
    "\n",
    "    \n",
    "    def apertura(self):\n",
    "        \"\"\" Esta función abre cualquier tipo de archivo sea cual sea su ubicación, y lo guarda en una variable. No recibe parámetros adicionales, toma los del constructor.\"\"\"\n",
    "        \n",
    "        a = open(f\"{self.ruta}/{self.nombre_y_extension}\", encoding = \"latin-1\", mode = \"r\")\n",
    "        archivo = a.read()\n",
    "        a.close()\n",
    "\n",
    "        return archivo\n",
    "\n",
    "\n",
    "    def leer_palabras(self, numero_palabras):\n",
    "        \"\"\"Esta función vuelve a abrir el archivo y lo lee, mostrando el número de palabras deseado por el usuario. Toma un parámetro:\n",
    "         - El número de palabras que queremos imprimir. Debe ser un integer.\n",
    "         La función devuelve un string.\"\"\"\n",
    "        \n",
    "        if type(numero_palabras) != int:\n",
    "\n",
    "            return \"No podemos realizar la lectura, necesitamos que indiques un número de tipo integer como parámetro\"\n",
    "        \n",
    "        a = open(f\"{self.ruta}/{self.nombre_y_extension}\", encoding = \"latin-1\", mode = \"r\")\n",
    "        archivo = a.read()\n",
    "        a.close()\n",
    "        \n",
    "        palabras = archivo.split()\n",
    "\n",
    "        lista_primeras_palabras = []\n",
    "\n",
    "        while len(lista_primeras_palabras) < numero_palabras:\n",
    "            lista_primeras_palabras.append(palabras[0])\n",
    "            palabras.pop(0)\n",
    "\n",
    "        primeras_palabras = \" \".join(lista_primeras_palabras)\n",
    "\n",
    "        return primeras_palabras\n",
    "    \n",
    "\n",
    "    def leer_lineas(self):\n",
    "        \"\"\"Esta función vuelve a abrir el archivo y lo lee, mostrando el número de lineas deseado por el usuario. No toma parámetros.\n",
    "         La función devuelve un string.\"\"\"\n",
    "\n",
    "        a = open(f\"{self.ruta}/{self.nombre_y_extension}\", encoding = \"latin-1\", mode = \"r\")\n",
    "        archivo = a.readlines()\n",
    "        a.close()\n",
    "\n",
    "        archivo_entero = input(\"¿Desea visualizar el archivo entero?\")\n",
    "        archivo_entero = archivo_entero.lower()\n",
    "\n",
    "        if archivo_entero == \"si\" or archivo_entero == \"sí\":\n",
    "\n",
    "            archivo = \"\".join(archivo)\n",
    "            return archivo\n",
    "        \n",
    "        elif archivo_entero == \"no\":\n",
    "\n",
    "            numero_lineas = input(\"¿Cuántas líneas de texto desea visualizar?\")\n",
    "\n",
    "            try:\n",
    "                numero_lineas = float(numero_lineas)\n",
    "                numero_lineas = round(numero_lineas)\n",
    "                numero_lineas = int(numero_lineas)\n",
    "                    \n",
    "                primeras_lineas = \"\".join(archivo[:numero_lineas])\n",
    "                return primeras_lineas\n",
    "\n",
    "            except:\n",
    "                return \"No has introducido un valor numérico correcto.\"        \n",
    "            \n",
    "        else:\n",
    "            return \"No has introducido una respuesta correcta.\"\n",
    "        \n",
    "\n",
    "    def leer_sin_intro(self, inicio_libro, final_libro):\n",
    "        \"\"\"Esta función vuelve a abrir el archivo y lo lee, mostrando el texto sin incluir la introducción inicial. Toma dos parámetros:\n",
    "         - La línea de inicio del libro sin incluir la introducción. Debe ser un int.\n",
    "         - La línea final del libro, sin incluir posibles epílogos externos. Debe ser un int.\n",
    "         La función devuelve un string.\"\"\"\n",
    "        \n",
    "        a = open(f\"{self.ruta}/{self.nombre_y_extension}\", encoding = \"latin-1\", mode = \"r\")\n",
    "        archivo = a.readlines()\n",
    "        a.close()\n",
    "\n",
    "        sin_intro = \"\".join(archivo[inicio_libro:(final_libro + 1)])\n",
    "        return sin_intro\n",
    "    \n",
    "    \n",
    "    def cantidad_palabras(self, palabras):\n",
    "        \"\"\"Esta función vuelve a abrir el archivo y lo lee, mostrando la cantidad de veces que aparece/n una/s palabra/s dada/s. Toma un parámetros:\n",
    "         - La palabra o texto que queremos buscar en el archivo. Debe ser un string.\n",
    "         La función devuelve un int.\"\"\"\n",
    "\n",
    "        a = open(f\"{self.ruta}/{self.nombre_y_extension}\", encoding = \"latin-1\", mode = \"r\")\n",
    "        archivo = a.read()\n",
    "        a.close()\n",
    "\n",
    "        archivo = archivo.lower()\n",
    "\n",
    "        palabras = palabras.lower()  \n",
    "\n",
    "        return archivo.count(palabras)     "
   ]
  },
  {
   "cell_type": "code",
   "execution_count": null,
   "metadata": {},
   "outputs": [],
   "source": [
    "quijote = Libro(\"/mnt/c/Users/lidya/Documents/Nuestros documentos/Documentos de Lidya/Estudios/Adalab/modulos/modulo1/evaluaciones/DA-promoD-Mod1-sprint2-LidyaDescals/data\", \"quijote.txt\")"
   ]
  },
  {
   "cell_type": "code",
   "execution_count": null,
   "metadata": {},
   "outputs": [],
   "source": [
    "print(quijote.apertura())"
   ]
  },
  {
   "cell_type": "code",
   "execution_count": null,
   "metadata": {},
   "outputs": [],
   "source": [
    "print(quijote.leer_palabras(15))"
   ]
  },
  {
   "cell_type": "code",
   "execution_count": null,
   "metadata": {},
   "outputs": [],
   "source": [
    "print(quijote.leer_lineas())"
   ]
  },
  {
   "cell_type": "code",
   "execution_count": null,
   "metadata": {},
   "outputs": [],
   "source": [
    "print(quijote.leer_sin_intro(1780, 74276))"
   ]
  },
  {
   "cell_type": "code",
   "execution_count": null,
   "metadata": {},
   "outputs": [],
   "source": [
    "quijote.cantidad_palabras(\"Quijote\")"
   ]
  },
  {
   "cell_type": "code",
   "execution_count": null,
   "metadata": {},
   "outputs": [],
   "source": [
    "quijote.cantidad_palabras(\"Alonso\")"
   ]
  },
  {
   "cell_type": "code",
   "execution_count": null,
   "metadata": {},
   "outputs": [],
   "source": [
    "quijote.cantidad_palabras(\"Don Quijote\")"
   ]
  }
 ],
 "metadata": {
  "kernelspec": {
   "display_name": "Python 3",
   "language": "python",
   "name": "python3"
  },
  "language_info": {
   "codemirror_mode": {
    "name": "ipython",
    "version": 3
   },
   "file_extension": ".py",
   "mimetype": "text/x-python",
   "name": "python",
   "nbconvert_exporter": "python",
   "pygments_lexer": "ipython3",
   "version": "3.10.9"
  },
  "orig_nbformat": 4,
  "vscode": {
   "interpreter": {
    "hash": "31f2aee4e71d21fbe5cf8b01ff0e069b9275f58929596ceb00d14d90e3e16cd6"
   }
  }
 },
 "nbformat": 4,
 "nbformat_minor": 2
}
